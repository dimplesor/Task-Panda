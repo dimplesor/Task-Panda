{
 "cells": [
  {
   "cell_type": "markdown",
   "id": "cc5f9faa-b634-4280-b81e-58bb6f7cc963",
   "metadata": {},
   "source": [
    "# Create a ecom data with only 50 rows."
   ]
  },
  {
   "cell_type": "code",
   "execution_count": null,
   "id": "01f5941e-5549-45b2-84ee-0d245eb92951",
   "metadata": {},
   "outputs": [],
   "source": [
    "import pandas as pd\n",
    "all_sheets_data = pd.read_excel('ECOM.xlsx', sheet_name=None)\n",
    "all_3_sheets_data = {}\n",
    "\n",
    "for sheet_name, sheet_values in all_sheets_data.items():\n",
    "    data_of_all_sheets = sheet_values.head(50)\n",
    "    \n",
    "    list_of_dicts = data_of_all_sheets.to_dict(orient='records')\n",
    "\n",
    "    all_3_sheets_data[sheet_name] = list_of_dicts"
   ]
  },
  {
   "cell_type": "markdown",
   "id": "0583f036-5229-410a-b017-39f6673920ee",
   "metadata": {},
   "source": [
    "# List of Dictonary of Data and Pandas DataFrame"
   ]
  },
  {
   "cell_type": "code",
   "execution_count": null,
   "id": "52c63466-ccd5-4be4-a3dd-69e39236e3f6",
   "metadata": {},
   "outputs": [],
   "source": [
    "customer_data = all_3_sheets_data['customer']\n",
    "# print(customer_data)           # It will give list of dictionary of Customer Data.\n",
    "customer_df = pd.DataFrame(customer_data)\n",
    "customer_df"
   ]
  },
  {
   "cell_type": "raw",
   "id": "f03c9774-e2f7-4c00-a015-3129eb56b622",
   "metadata": {},
   "source": [
    "\tcust_id\tcustomer_name\tsegment\tage\tcountry\tcity\tstate\tpostal_code\tregion\n",
    "0\tcust_id-CG-12520\tClaire Gute\tConsumer\t67\tUnited States\tHenderson\tKentucky\t42420\tSouth\n",
    "1\tcust_id-DV-13045\tDarrin Van Huff\tCorporate\t31\tUnited States\tLos Angeles\tCalifornia\t90036\tWest\n",
    "2\tcust_id-DV-13046\tSean O'Donnell\tConsumer\t65\tUnited States\tFort Lauderdale\tFlorida\t33311\tSouth\n",
    "3\tcust_id-DV-13047\tBrosina Hoffman\tConsumer\t20\tUnited States\tLos Angeles\tCalifornia\t90032\tWest\n",
    "4\tcust_id-DV-13048\tAndrew Allen\tConsumer\t50\tUnited States\tConcord\tNorth Carolina\t28027\tSouth\n",
    "5\tcust_id-DV-13049\tIrene Maddox\tConsumer\t66\tUnited States\tSeattle\tWashington\t98103\tWest\n",
    "6\tcust_id-DV-13050\tHarold Pawlan\tHome Office\t20\tUnited States\tFort Worth\tTexas\t76106\tCentral\n",
    "7\tcust_id-DV-13051\tPete Kriz\tConsumer\t46\tUnited States\tMadison\tWisconsin\t53711\tCentral\n",
    "8\tcust_id-DV-13052\tAlejandro Grove\tConsumer\t18\tUnited States\tWest Jordan\tUtah\t84084\tWest\n",
    "9\tcust_id-DV-13053\tZuschuss Donatelli\tConsumer\t66\tUnited States\tSan Francisco\tCalifornia\t94109\tWest\n",
    "10\tcust_id-DV-13054\tKen Black\tCorporate\t67\tUnited States\tFremont\tNebraska\t68025\tCentral\n",
    "11\tcust_id-DV-13055\tSandra Flanagan\tConsumer\t41\tUnited States\tPhiladelphia\tPennsylvania\t19140\tEast\n",
    "12\tcust_id-DV-13056\tEmily Burns\tConsumer\t34\tUnited States\tOrem\tUtah\t84057\tWest\n",
    "13\tcust_id-DV-13057\tEric Hoffmann\tConsumer\t21\tUnited States\tLos Angeles\tCalifornia\t90049\tWest\n",
    "14\tcust_id-DV-13058\tTracy Blumstein\tConsumer\t48\tUnited States\tPhiladelphia\tPennsylvania\t19140\tEast\n",
    "15\tcust_id-DV-13059\tMatt Abelman\tHome Office\t19\tUnited States\tHouston\tTexas\t77095\tCentral\n",
    "16\tcust_id-DV-13060\tGene Hale\tCorporate\t28\tUnited States\tRichardson\tTexas\t75080\tCentral\n",
    "17\tcust_id-DV-13061\tSteve Nguyen\tHome Office\t46\tUnited States\tHouston\tTexas\t77041\tCentral\n",
    "18\tcust_id-DV-13062\tLinda Cazamias\tCorporate\t31\tUnited States\tNaperville\tIllinois\t60540\tCentral\n",
    "19\tcust_id-DV-13063\tRuben Ausman\tCorporate\t51\tUnited States\tLos Angeles\tCalifornia\t90049\tWest\n",
    "20\tcust_id-DV-13064\tErin Smith\tCorporate\t20\tUnited States\tMelbourne\tFlorida\t32935\tSouth\n",
    "21\tcust_id-DV-13065\tOdella Nelson\tCorporate\t27\tUnited States\tEagan\tMinnesota\t55122\tCentral\n",
    "22\tcust_id-DV-13066\tPatrick O'Donnell\tConsumer\t64\tUnited States\tWestland\tMichigan\t48185\tCentral\n",
    "23\tcust_id-DV-13067\tLena Hernandez\tConsumer\t66\tUnited States\tDover\tDelaware\t19901\tEast\n",
    "24\tcust_id-DV-13068\tDarren Powers\tConsumer\t40\tUnited States\tNew Albany\tIndiana\t47150\tCentral\n",
    "25\tcust_id-DV-13069\tJanet Molinari\tCorporate\t23\tUnited States\tNew York City\tNew York\t10024\tEast\n",
    "26\tcust_id-DV-13070\tTed Butterfield\tConsumer\t34\tUnited States\tTroy\tNew York\t12180\tEast\n",
    "27\tcust_id-DV-13071\tKunst Miller\tConsumer\t69\tUnited States\tLos Angeles\tCalifornia\t90004\tWest\n",
    "28\tcust_id-DV-13072\tPaul Stevenson\tHome Office\t31\tUnited States\tChicago\tIllinois\t60610\tCentral\n",
    "29\tcust_id-DV-13073\tBrendan Sweed\tCorporate\t45\tUnited States\tGilbert\tArizona\t85234\tWest\n",
    "30\tcust_id-DV-13074\tKaren Daniels\tConsumer\t59\tUnited States\tSpringfield\tVirginia\t22153\tSouth\n",
    "31\tcust_id-DV-13075\tHenry MacAllister\tConsumer\t35\tUnited States\tNew York City\tNew York\t10009\tEast\n",
    "32\tcust_id-DV-13076\tJoel Eaton\tConsumer\t25\tUnited States\tMemphis\tTennessee\t38109\tSouth\n",
    "33\tcust_id-DV-13077\tKen Brennan\tCorporate\t29\tUnited States\tHouston\tTexas\t77041\tCentral\n",
    "34\tcust_id-DV-13078\tStewart Carmichael\tCorporate\t18\tUnited States\tDecatur\tAlabama\t35601\tSouth\n",
    "35\tcust_id-DV-13079\tDuane Noonan\tConsumer\t42\tUnited States\tSan Francisco\tCalifornia\t94122\tWest\n",
    "36\tcust_id-DV-13080\tJulie Creighton\tCorporate\t56\tUnited States\tDurham\tNorth Carolina\t27707\tSouth\n",
    "37\tcust_id-DV-13081\tChristopher Schild\tHome Office\t33\tUnited States\tChicago\tIllinois\t60623\tCentral\n",
    "38\tcust_id-DV-13082\tPaul Gonzalez\tConsumer\t64\tUnited States\tRochester\tMinnesota\t55901\tCentral\n",
    "39\tcust_id-DV-13083\tGary Mitchum\tHome Office\t64\tUnited States\tHouston\tTexas\t77095\tCentral\n",
    "40\tcust_id-DV-13084\tJim Sink\tCorporate\t33\tUnited States\tLos Angeles\tCalifornia\t90036\tWest\n",
    "41\tcust_id-DV-13085\tKarl Braun\tConsumer\t70\tUnited States\tMinneapolis\tMinnesota\t55407\tCentral\n",
    "42\tcust_id-DV-13086\tRoger Barcio\tHome Office\t63\tUnited States\tPortland\tOregon\t97206\tWest\n",
    "43\tcust_id-DV-13087\tParhena Norris\tHome Office\t35\tUnited States\tNew York City\tNew York\t10009\tEast\n",
    "44\tcust_id-DV-13088\tKatherine Ducich\tConsumer\t33\tUnited States\tSan Francisco\tCalifornia\t94122\tWest\n",
    "45\tcust_id-DV-13089\tElpida Rittenbach\tCorporate\t56\tUnited States\tSaint Paul\tMinnesota\t55106\tCentral\n",
    "46\tcust_id-DV-13090\tRick Bensley\tHome Office\t18\tUnited States\tChicago\tIllinois\t60610\tCentral\n",
    "47\tcust_id-DV-13091\tGary Zandusky\tConsumer\t64\tUnited States\tRochester\tMinnesota\t55901\tCentral\n",
    "48\tcust_id-LC-16870\tLena Cacioppo\tConsumer\t63\tUnited States\tAurora\tColorado\t80013\tWest\n",
    "49\tcust_id-JM-15250\tJanet Martin\tConsumer\t62\tUnited States\tCharlotte\tNorth Carolina\t28205\tSouth"
   ]
  },
  {
   "cell_type": "code",
   "execution_count": null,
   "id": "794f765f-808a-45e0-a410-8aae796a213e",
   "metadata": {},
   "outputs": [],
   "source": [
    "sales_data = all_3_sheets_data['Sales']\n",
    "# print(sales_data)           # It will give list of dictionary of Sales Data.\n",
    "sales_df = pd.DataFrame(sales_data)\n",
    "sales_df"
   ]
  },
  {
   "cell_type": "raw",
   "id": "68615b24-6f8e-49bc-ae51-e9d15c22b8ad",
   "metadata": {},
   "source": [
    "\torder_line\torder_id\torder_date\tship_date\tship_mode\tcustomer_id\tproduct_id\tsales\tquantity\tdiscount\tprofit\n",
    "0\t1\tCA-2016-152156\t2016-11-08\t2016-11-11\tSecond Class\tCG-12520\tFUR-BO-10001798\t261.9600\t2.0\t0.00\t41.9136\n",
    "1\t2\tCA-2016-152156\t2016-11-08\t2016-11-11\tSecond Class\tCG-12520\tFUR-CH-10000454\t731.9400\t3.0\t0.00\t219.5820\n",
    "2\t3\tCA-2016-138688\t2016-06-12\t2016-06-16\tSecond Class\tDV-13045\tOFF-LA-10000240\t14.6200\t2.0\t0.00\t6.8714\n",
    "3\t4\tUS-2015-108966\t2015-10-11\t2015-10-18\tStandard Class\tSO-20335\tFUR-TA-10000577\t957.5775\t5.0\t0.45\t-383.0310\n",
    "4\t5\tUS-2015-108966\t2015-10-11\t2015-10-18\tStandard Class\tSO-20335\tOFF-ST-10000760\t22.3680\t2.0\t0.20\t2.5164\n",
    "5\t6\tCA-2014-115812\t2014-06-09\t2014-06-14\tStandard Class\tBH-11710\tFUR-FU-10001487\t48.8600\t7.0\t0.00\t14.1694\n",
    "6\t7\tCA-2014-115812\t2014-06-09\t2014-06-14\tStandard Class\tBH-11710\tOFF-AR-10002833\t7.2800\t4.0\t0.00\t1.9656\n",
    "7\t8\tCA-2014-115812\t2014-06-09\t2014-06-14\tStandard Class\tBH-11710\tTEC-PH-10002275\t907.1520\t6.0\t0.20\t90.7152\n",
    "8\t9\tCA-2014-115812\t2014-06-09\t2014-06-14\tStandard Class\tBH-11710\tOFF-BI-10003910\t18.5040\t3.0\t0.20\t5.7825\n",
    "9\t10\tCA-2014-115812\t2014-06-09\t2014-06-14\tStandard Class\tBH-11710\tOFF-AP-10002892\t114.9000\t5.0\t0.00\t34.4700\n",
    "10\t11\tCA-2014-115812\t2014-06-09\t2014-06-14\tStandard Class\tBH-11710\tFUR-TA-10001539\t1706.1840\t9.0\t0.20\t85.3092\n",
    "11\t12\tCA-2014-115812\t2014-06-09\t2014-06-14\tStandard Class\tBH-11710\tTEC-PH-10002033\t911.4240\t4.0\t0.20\t68.3568\n",
    "12\t13\tCA-2017-114412\t2017-04-15\t2017-04-20\tStandard Class\tAA-10480\tOFF-PA-10002365\t15.5520\t3.0\t0.20\t5.4432\n",
    "13\t14\tCA-2016-161389\t2016-12-05\t2016-12-10\tStandard Class\tIM-15070\tOFF-BI-10003656\t407.9760\t3.0\t0.20\t132.5922\n",
    "14\t15\tUS-2015-118983\t2015-11-22\t2015-11-26\tStandard Class\tHP-14815\tOFF-AP-10002311\t68.8100\t5.0\t0.80\t-123.8580\n",
    "15\t16\tUS-2015-118983\t2015-11-22\t2015-11-26\tStandard Class\tHP-14815\tOFF-BI-10000756\t2.5440\t3.0\t0.80\t-3.8160\n",
    "16\t17\tCA-2014-105893\t2014-11-11\t2014-11-18\tStandard Class\tPK-19075\tOFF-ST-10004186\t665.8800\t6.0\t0.00\t13.3176\n",
    "17\t18\tCA-2014-167164\t2014-05-13\t2014-05-15\tSecond Class\tAG-10270\tOFF-ST-10000107\t55.5000\t2.0\t0.00\t9.9900\n",
    "18\t19\tCA-2014-143336\t2014-08-27\t2014-09-01\tSecond Class\tZD-21925\tOFF-AR-10003056\t8.5600\t2.0\t0.00\t2.4824\n",
    "19\t20\tCA-2014-143336\t2014-08-27\t2014-09-01\tSecond Class\tZD-21925\tTEC-PH-10001949\t213.4800\t3.0\t0.20\t16.0110\n",
    "20\t21\tCA-2014-143336\t2014-08-27\t2014-09-01\tSecond Class\tZD-21925\tOFF-BI-10002215\t22.7200\t4.0\t0.20\t7.3840\n",
    "21\t22\tCA-2016-137330\t2016-12-09\t2016-12-13\tStandard Class\tKB-16585\tOFF-AR-10000246\t19.4600\t7.0\t0.00\t5.0596\n",
    "22\t23\tCA-2016-137330\t2016-12-09\t2016-12-13\tStandard Class\tKB-16585\tOFF-AP-10001492\t60.3400\t7.0\t0.00\t15.6884\n",
    "23\t24\tUS-2017-156909\t2017-07-16\t2017-07-18\tSecond Class\tSF-20065\tFUR-CH-10002774\t71.3720\t2.0\t0.30\t-1.0196\n",
    "24\t25\tCA-2015-106320\t2015-09-25\t2015-09-30\tStandard Class\tEB-13870\tFUR-TA-10000577\t1044.6300\t3.0\t0.00\t240.2649\n",
    "25\t26\tCA-2016-121755\t2016-01-16\t2016-01-20\tSecond Class\tEH-13945\tOFF-BI-10001634\t11.6480\t2.0\t0.20\t4.2224\n",
    "26\t27\tCA-2016-121755\t2016-01-16\t2016-01-20\tSecond Class\tEH-13945\tTEC-AC-10003027\t90.5700\t3.0\t0.00\t11.7741\n",
    "27\t28\tUS-2015-150630\t2015-09-17\t2015-09-21\tStandard Class\tTB-21520\tFUR-BO-10004834\t3083.4300\t7.0\t0.50\t-1665.0522\n",
    "28\t29\tUS-2015-150630\t2015-09-17\t2015-09-21\tStandard Class\tTB-21520\tOFF-BI-10000474\t9.6180\t2.0\t0.70\t-7.0532\n",
    "29\t30\tUS-2015-150630\t2015-09-17\t2015-09-21\tStandard Class\tTB-21520\tFUR-FU-10004848\t124.2000\t3.0\t0.20\t15.5250\n",
    "30\t31\tUS-2015-150630\t2015-09-17\t2015-09-21\tStandard Class\tTB-21520\tOFF-EN-10001509\t3.2640\t2.0\t0.20\t1.1016\n",
    "31\t32\tUS-2015-150630\t2015-09-17\t2015-09-21\tStandard Class\tTB-21520\tOFF-AR-10004042\t86.3040\t6.0\t0.20\t9.7092\n",
    "32\t33\tUS-2015-150630\t2015-09-17\t2015-09-21\tStandard Class\tTB-21520\tOFF-BI-10001525\t6.8580\t6.0\t0.70\t-5.7150\n",
    "33\t34\tUS-2015-150630\t2015-09-17\t2015-09-21\tStandard Class\tTB-21520\tOFF-AR-10001683\t15.7600\t2.0\t0.20\t3.5460\n",
    "34\t35\tCA-2017-107727\t2017-10-19\t2017-10-23\tSecond Class\tMA-17560\tOFF-PA-10000249\t29.4720\t3.0\t0.20\t9.9468\n",
    "35\t36\tCA-2016-117590\t2016-12-08\t2016-12-10\tFirst Class\tGH-14485\tTEC-PH-10004977\t1097.5440\t7.0\t0.20\t123.4737\n",
    "36\t37\tCA-2016-117590\t2016-12-08\t2016-12-10\tFirst Class\tGH-14485\tFUR-FU-10003664\t190.9200\t5.0\t0.60\t-147.9630\n",
    "37\t38\tCA-2015-117415\t2015-12-27\t2015-12-31\tStandard Class\tSN-20710\tOFF-EN-10002986\t113.3280\t9.0\t0.20\t35.4150\n",
    "38\t39\tCA-2015-117415\t2015-12-27\t2015-12-31\tStandard Class\tSN-20710\tFUR-BO-10002545\t532.3992\t3.0\t0.32\t-46.9764\n",
    "39\t40\tCA-2015-117415\t2015-12-27\t2015-12-31\tStandard Class\tSN-20710\tFUR-CH-10004218\t212.0580\t3.0\t0.30\t-15.1470\n",
    "40\t41\tCA-2015-117415\t2015-12-27\t2015-12-31\tStandard Class\tSN-20710\tTEC-PH-10000486\t371.1680\t4.0\t0.20\t41.7564\n",
    "41\t42\tCA-2017-120999\t2017-09-10\t2017-09-15\tStandard Class\tLC-16930\tTEC-PH-10004093\t147.1680\t4.0\t0.20\t16.5564\n",
    "42\t43\tCA-2016-101343\t2016-07-17\t2016-07-22\tStandard Class\tRA-19885\tOFF-ST-10003479\t77.8800\t2.0\t0.00\t3.8940\n",
    "43\t44\tCA-2017-139619\t2017-09-19\t2017-09-23\tStandard Class\tES-14080\tOFF-ST-10003282\t95.6160\t2.0\t0.20\t9.5616\n",
    "44\t45\tCA-2016-118255\t2016-03-11\t2016-03-13\tFirst Class\tON-18715\tTEC-AC-10000171\t45.9800\t2.0\t0.00\t19.7714\n",
    "45\t46\tCA-2016-118255\t2016-03-11\t2016-03-13\tFirst Class\tON-18715\tOFF-BI-10003291\t17.4600\t2.0\t0.00\t8.2062\n",
    "46\t47\tCA-2014-146703\t2014-10-20\t2014-10-25\tSecond Class\tPO-18865\tOFF-ST-10001713\t211.9600\t4.0\t0.00\t8.4784\n",
    "47\t48\tCA-2016-169194\t2016-06-20\t2016-06-25\tStandard Class\tLH-16900\tTEC-AC-10002167\t45.0000\t3.0\t0.00\t4.9500\n",
    "48\t49\tCA-2016-169194\t2016-06-20\t2016-06-25\tStandard Class\tLH-16900\tTEC-PH-10003988\t21.8000\t2.0\t0.00\t6.1040\n",
    "49\t50\tCA-2015-115742\t2015-04-18\t2015-04-22\tStandard Class\tDP-13000\tOFF-BI-10004410\t38.2200\t6.0\t0.00\t17.9634"
   ]
  },
  {
   "cell_type": "code",
   "execution_count": null,
   "id": "3c71e79c-3d96-4db9-b7cb-4939d14de7d0",
   "metadata": {},
   "outputs": [],
   "source": [
    "product_data = all_3_sheets_data['Product']\n",
    "# print(product_data)           # It will give list of dictionary of Product Data.\n",
    "product_df = pd.DataFrame(product_data)\n",
    "product_df"
   ]
  },
  {
   "cell_type": "raw",
   "id": "a9449056-76ae-492f-b1d4-3ac542d07ccb",
   "metadata": {},
   "source": [
    "product_id\tcategory\tsub_category\tproduct_name\n",
    "0\tFUR-BO-10001798\tFurniture\tBookcases\tBush Somerset Collection Bookcase\n",
    "1\tFUR-BO-10001798\tFurniture\tBookcases1\tBush Somerset Collection Bookcase\n",
    "2\tFUR-CH-10000454\tFurniture\tChairs\tHon Deluxe Fabric Upholstered Stacking Chairs ...\n",
    "3\tOFF-LA-10000240\tOffice Supplies\tLabels\tSelf-Adhesive Address Labels for Typewriters b...\n",
    "4\tFUR-TA-10000577\tFurniture\tTables\tBretford CR4500 Series Slim Rectangular Table\n",
    "5\tOFF-ST-10000760\tOffice Supplies\tStorage\tEldon Fold N Roll Cart System\n",
    "6\tFUR-FU-10001487\tFurniture\tFurnishings\tEldon Expressions Wood and Plastic Desk Access...\n",
    "7\tOFF-AR-10002833\tOffice Supplies\tArt\tNewell 322\n",
    "8\tTEC-PH-10002275\tTechnology\tPhones\tMitel 5320 IP Phone VoIP phone\n",
    "9\tOFF-BI-10003910\tOffice Supplies\tBinders\tDXL Angle-View Binders with Locking Rings by S...\n",
    "10\tOFF-AP-10002892\tOffice Supplies\tAppliances\tBelkin F5C206VTEL 6 Outlet Surge\n",
    "11\tFUR-TA-10001539\tFurniture\tTables\tChromcraft Rectangular Conference Tables\n",
    "12\tTEC-PH-10002033\tTechnology\tPhones\tKonftel 250 ConferenceÂ phone Charcoal black\n",
    "13\tOFF-PA-10002365\tOffice Supplies\tPaper\tXerox 1967\n",
    "14\tOFF-BI-10003656\tOffice Supplies\tBinders\tFellowes PB200 Plastic Comb Binding Machine\n",
    "15\tOFF-AP-10002311\tOffice Supplies\tAppliances\tHolmes Replacement Filter for HEPA Air Cleaner...\n",
    "16\tOFF-BI-10000756\tOffice Supplies\tBinders\tStorex DuraTech Recycled Plastic Frosted Binders\n",
    "17\tOFF-ST-10004186\tOffice Supplies\tStorage\tStur-D-Stor Shelving Vertical 5-Shelf: 72H x ...\n",
    "18\tOFF-ST-10000107\tOffice Supplies\tStorage\tFellowes Super Stor/Drawer\n",
    "19\tOFF-AR-10003056\tOffice Supplies\tArt\tNewell 341\n",
    "20\tTEC-PH-10001949\tTechnology\tPhones\tCisco SPA 501G IP Phone\n",
    "21\tOFF-BI-10002215\tOffice Supplies\tBinders\tWilson Jones Hanging View Binder White 1\n",
    "22\tOFF-AR-10000246\tOffice Supplies\tArt\tNewell 318\n",
    "23\tOFF-AP-10001492\tOffice Supplies\tAppliances\tAcco Six-Outlet Power Strip 4 Cord Length\n",
    "24\tFUR-CH-10002774\tFurniture\tChairs\tGlobal Deluxe Stacking Chair Gray\n",
    "25\tOFF-BI-10001634\tOffice Supplies\tBinders\tWilson Jones Active Use Binders\n",
    "26\tTEC-AC-10003027\tTechnology\tAccessories\tImationÂ 8GB Mini TravelDrive USB 2.0Â Flash D...\n",
    "27\tFUR-BO-10004834\tFurniture\tBookcases\tRiverside Palais Royal Lawyers Bookcase Royal...\n",
    "28\tOFF-BI-10000474\tOffice Supplies\tBinders\tAvery Recycled Flexi-View Covers for Binding S...\n",
    "29\tFUR-FU-10004848\tFurniture\tFurnishings\tHoward Miller 13-3/4 Diameter Brushed Chrome R...\n",
    "30\tOFF-EN-10001509\tOffice Supplies\tEnvelopes\tPoly String Tie Envelopes\n",
    "31\tOFF-AR-10004042\tOffice Supplies\tArt\tBOSTON Model 1800 Electric Pencil Sharpeners ...\n",
    "32\tOFF-BI-10001525\tOffice Supplies\tBinders\tAcco Pressboard Covers with Storage Hooks 14 ...\n",
    "33\tOFF-AR-10001683\tOffice Supplies\tArt\tLumber Crayons\n",
    "34\tOFF-PA-10000249\tOffice Supplies\tPaper\tEasy-staple paper\n",
    "35\tTEC-PH-10004977\tTechnology\tPhones\tGE 30524EE4\n",
    "36\tFUR-FU-10003664\tFurniture\tFurnishings\tElectrix Architects Clamp-On Swing Arm Lamp B...\n",
    "37\tOFF-EN-10002986\tOffice Supplies\tEnvelopes\t#10-4 1/8 x 9 1/2 Premium Diagonal Seam Envelopes\n",
    "38\tFUR-BO-10002545\tFurniture\tBookcases\tAtlantic Metals Mobile 3-Shelf Bookcases Cust...\n",
    "39\tFUR-CH-10004218\tFurniture\tChairs\tGlobal Fabric Managers Chair Dark Gray\n",
    "40\tTEC-PH-10000486\tTechnology\tPhones\tPlantronics HL10 Handset Lifter\n",
    "41\tTEC-PH-10004093\tTechnology\tPhones\tPanasonic Kx-TS550\n",
    "42\tOFF-ST-10003479\tOffice Supplies\tStorage\tEldon Base for stackable storage shelf platinum\n",
    "43\tOFF-ST-10003282\tOffice Supplies\tStorage\tAdvantus 10-Drawer Portable Organizer Chrome ...\n",
    "44\tTEC-AC-10000171\tTechnology\tAccessories\tVerbatim 25 GB 6x Blu-ray Single Layer Recorda...\n",
    "45\tOFF-BI-10003291\tOffice Supplies\tBinders\tWilson Jones Leather-Like Binders with DublLoc...\n",
    "46\tOFF-ST-10001713\tOffice Supplies\tStorage\tGould Plastics 9-Pocket Panel Bin 18-3/8w x 5...\n",
    "47\tTEC-AC-10002167\tTechnology\tAccessories\tImationÂ 8gb Micro Traveldrive Usb 2.0Â Flash ...\n",
    "48\tTEC-PH-10003988\tTechnology\tPhones\tLF Elite 3D Dazzle Designer Hard Case Cover L...\n",
    "49\tOFF-BI-10004410\tOffice Supplies\tBinders\tC-Line Peel & Stick Add-On Filing Pockets 8-3..."
   ]
  },
  {
   "cell_type": "markdown",
   "id": "72589018-ab27-4469-8666-835659d5cf95",
   "metadata": {},
   "source": [
    "### Store Data in csv file\n"
   ]
  },
  {
   "cell_type": "code",
   "execution_count": null,
   "id": "e2ce8cf9-66cf-4665-a393-bf248a7541af",
   "metadata": {},
   "outputs": [],
   "source": [
    "# DataFrame in csv file formate.\n",
    "customer_df.to_csv('Customer.csv')\n",
    "sales_df.to_csv('Sales.csv')\n",
    "product_df.to_csv('Product.csv')"
   ]
  },
  {
   "cell_type": "markdown",
   "id": "231f0f2a-6ff2-45d8-8e42-d8c86aea4c41",
   "metadata": {},
   "source": [
    "### Store Data in Excel file"
   ]
  },
  {
   "cell_type": "code",
   "execution_count": null,
   "id": "3eea7212-71a8-4a64-b467-51b2a34d7c09",
   "metadata": {},
   "outputs": [],
   "source": [
    "# DataFrame in excel file formate.\n",
    "customer_df.to_excel('Customer.xlsx')\n",
    "sales_df.to_excel('Sales.xlsx')\n",
    "product_df.to_excel('Product.xlsx')"
   ]
  },
  {
   "cell_type": "markdown",
   "id": "ce3407cd-1535-4791-bc61-ee5a4a95bdcb",
   "metadata": {},
   "source": [
    "# All aggreagteions of ECOM data"
   ]
  },
  {
   "cell_type": "code",
   "execution_count": null,
   "id": "ebd748a0-4ef6-4bdb-9e41-f462f6b4e228",
   "metadata": {},
   "outputs": [],
   "source": [
    "\n",
    "customer_df.describe() \n"
   ]
  },
  {
   "cell_type": "raw",
   "id": "bfce027e-2351-4e7d-a1a4-684d9ed434f8",
   "metadata": {},
   "source": [
    "age\tpostal_code\n",
    "count\t50.00000\t50.000000\n",
    "mean\t43.52000\t58729.520000\n",
    "std\t17.64299\t27879.805501\n",
    "min\t18.00000\t10009.000000\n",
    "25%\t29.50000\t33883.500000\n",
    "50%\t41.50000\t60575.000000\n",
    "75%\t63.00000\t84077.250000\n",
    "max\t70.00000\t98103.000000"
   ]
  },
  {
   "cell_type": "code",
   "execution_count": null,
   "id": "d673ec5f-0d08-4eaf-abff-ff4d862d04c1",
   "metadata": {},
   "outputs": [],
   "source": [
    "sales_df.describe() \n"
   ]
  },
  {
   "cell_type": "raw",
   "id": "832f8413-ccfd-42a5-955d-604446b93f22",
   "metadata": {},
   "source": [
    "\torder_line\torder_date\tship_date\tsales\tquantity\tdiscount\tprofit\n",
    "count\t50.00000\t50\t50\t50.000000\t50.000000\t50.000000\t50.000000\n",
    "mean\t25.50000\t2015-11-19 01:26:24\t2015-11-23 07:40:48\t300.784374\t3.920000\t0.189400\t-20.555808\n",
    "min\t1.00000\t2014-05-13 00:00:00\t2014-05-15 00:00:00\t2.544000\t2.000000\t0.000000\t-1665.052200\n",
    "25%\t13.25000\t2014-12-20 12:00:00\t2014-12-26 18:00:00\t20.045000\t2.000000\t0.000000\t2.490900\n",
    "50%\t25.50000\t2015-11-22 00:00:00\t2015-11-26 00:00:00\t74.626000\t3.000000\t0.200000\t8.342300\n",
    "75%\t37.75000\t2016-07-10 06:00:00\t2016-07-15 06:00:00\t249.840000\t5.000000\t0.200000\t17.611650\n",
    "max\t50.00000\t2017-10-19 00:00:00\t2017-10-23 00:00:00\t3083.430000\t9.000000\t0.800000\t240.264900\n",
    "std\t14.57738\tNaN\tNaN\t547.570493\t1.977836\t0.219521\t251.758378"
   ]
  },
  {
   "cell_type": "code",
   "execution_count": null,
   "id": "ab09f160-536b-4127-a6c1-35be73883500",
   "metadata": {},
   "outputs": [],
   "source": [
    "product_df.describe() "
   ]
  },
  {
   "cell_type": "raw",
   "id": "3c1518f3-c2e5-4202-ae0d-01d0532d408f",
   "metadata": {},
   "source": [
    "product_id\tcategory\tsub_category\tproduct_name\n",
    "count\t50\t50\t50\t50\n",
    "unique\t49\t3\t14\t49\n",
    "top\tFUR-BO-10001798\tOffice Supplies\tBinders\tBush Somerset Collection Bookcase\n",
    "freq\t2\t28\t9\t2"
   ]
  },
  {
   "cell_type": "code",
   "execution_count": null,
   "id": "a278c543-5b6e-40e4-8f13-8e92250ce40f",
   "metadata": {},
   "outputs": [],
   "source": [
    "\n",
    "\n",
    "\n",
    "\n",
    "\n",
    "\n",
    "\n",
    "\n",
    "\n",
    "\n"
   ]
  },
  {
   "cell_type": "raw",
   "id": "9ae4fcb7-e5ae-48ac-8a2f-d3f5464d0e9d",
   "metadata": {},
   "source": []
  }
 ],
 "metadata": {
  "kernelspec": {
   "display_name": "Python 3 (ipykernel)",
   "language": "python",
   "name": "python3"
  },
  "language_info": {
   "codemirror_mode": {
    "name": "ipython",
    "version": 3
   },
   "file_extension": ".py",
   "mimetype": "text/x-python",
   "name": "python",
   "nbconvert_exporter": "python",
   "pygments_lexer": "ipython3",
   "version": "3.11.7"
  }
 },
 "nbformat": 4,
 "nbformat_minor": 5
}
